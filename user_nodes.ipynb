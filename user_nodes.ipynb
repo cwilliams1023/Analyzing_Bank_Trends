{
 "cells": [
  {
   "cell_type": "code",
   "execution_count": 26,
   "id": "4d5cabad",
   "metadata": {},
   "outputs": [],
   "source": [
    "import pandas as pd\n",
    "import warnings\n",
    "warnings.filterwarnings(\"ignore\")"
   ]
  },
  {
   "cell_type": "code",
   "execution_count": 27,
   "id": "05e40088",
   "metadata": {},
   "outputs": [],
   "source": [
    "# Function to read the CSV file into a DataFrame\n",
    "def read_csv():\n",
    "    # read the user_nodes.csv file using pandas library and return it\n",
    "    df = pd.read_csv('user_nodes.csv')\n",
    "    return df"
   ]
  },
  {
   "cell_type": "code",
   "execution_count": 28,
   "id": "1d31b78e",
   "metadata": {},
   "outputs": [],
   "source": [
    "# Function to check for null (missing) values in the DataFrame\n",
    "def check_null_values():\n",
    "    # do not edit the predefined function name\n",
    "    df = read_csv()\n",
    "    # Check for null values using the isnull() method and sum them for each column\n",
    "    null_values = df.isnull().sum()\n",
    "    return null_values"
   ]
  },
  {
   "cell_type": "code",
   "execution_count": 29,
   "id": "60a443a1",
   "metadata": {},
   "outputs": [
    {
     "data": {
      "text/plain": [
       "id_           0\n",
       "area_id_      0\n",
       "node_id_      0\n",
       "act_date      0\n",
       "deact_date    0\n",
       "has_loan      0\n",
       "is_act        0\n",
       "dtype: int64"
      ]
     },
     "execution_count": 29,
     "metadata": {},
     "output_type": "execute_result"
    }
   ],
   "source": [
    "# check for null values\n",
    "\n",
    "check_null_values()"
   ]
  },
  {
   "cell_type": "code",
   "execution_count": 30,
   "id": "0eb462ea",
   "metadata": {},
   "outputs": [],
   "source": [
    "# Function to check for duplicate rows in the DataFrame\n",
    "def check_duplicates():\n",
    "    # do not edit the predefined function name\n",
    "    df = read_csv()\n",
    "    # Calculate the number of duplicate rows using the duplicated() method and sum them\n",
    "    duplicates = df.duplicated().sum()\n",
    "    return duplicates"
   ]
  },
  {
   "cell_type": "code",
   "execution_count": 31,
   "id": "c647792d",
   "metadata": {},
   "outputs": [
    {
     "data": {
      "text/plain": [
       "143"
      ]
     },
     "execution_count": 31,
     "metadata": {},
     "output_type": "execute_result"
    }
   ],
   "source": [
    "# check for duplicates \n",
    "\n",
    "check_duplicates()"
   ]
  },
  {
   "cell_type": "code",
   "execution_count": 32,
   "id": "702cf16c",
   "metadata": {},
   "outputs": [],
   "source": [
    "# Function to drop duplicate rows from the DataFrame\n",
    "def drop_duplicates():\n",
    "    # do not edit the predefined function name\n",
    "    df = read_csv()\n",
    "    # Drop duplicate rows using the drop_duplicates() method with inplace=True\n",
    "    df.drop_duplicates(inplace=True)\n",
    "    return df\n"
   ]
  },
  {
   "cell_type": "code",
   "execution_count": 33,
   "id": "c6a36a26",
   "metadata": {},
   "outputs": [
    {
     "data": {
      "text/html": [
       "<div>\n",
       "<style scoped>\n",
       "    .dataframe tbody tr th:only-of-type {\n",
       "        vertical-align: middle;\n",
       "    }\n",
       "\n",
       "    .dataframe tbody tr th {\n",
       "        vertical-align: top;\n",
       "    }\n",
       "\n",
       "    .dataframe thead th {\n",
       "        text-align: right;\n",
       "    }\n",
       "</style>\n",
       "<table border=\"1\" class=\"dataframe\">\n",
       "  <thead>\n",
       "    <tr style=\"text-align: right;\">\n",
       "      <th></th>\n",
       "      <th>id_</th>\n",
       "      <th>area_id_</th>\n",
       "      <th>node_id_</th>\n",
       "      <th>act_date</th>\n",
       "      <th>deact_date</th>\n",
       "      <th>has_loan</th>\n",
       "      <th>is_act</th>\n",
       "    </tr>\n",
       "  </thead>\n",
       "  <tbody>\n",
       "    <tr>\n",
       "      <th>0</th>\n",
       "      <td>1</td>\n",
       "      <td>3</td>\n",
       "      <td>4</td>\n",
       "      <td>02-01-2020</td>\n",
       "      <td>03-01-2020</td>\n",
       "      <td>1</td>\n",
       "      <td>0</td>\n",
       "    </tr>\n",
       "    <tr>\n",
       "      <th>1</th>\n",
       "      <td>2</td>\n",
       "      <td>3</td>\n",
       "      <td>5</td>\n",
       "      <td>03-01-2020</td>\n",
       "      <td>17-01-2020</td>\n",
       "      <td>0</td>\n",
       "      <td>1</td>\n",
       "    </tr>\n",
       "    <tr>\n",
       "      <th>2</th>\n",
       "      <td>3</td>\n",
       "      <td>5</td>\n",
       "      <td>4</td>\n",
       "      <td>27-01-2020</td>\n",
       "      <td>18-02-2020</td>\n",
       "      <td>0</td>\n",
       "      <td>0</td>\n",
       "    </tr>\n",
       "    <tr>\n",
       "      <th>3</th>\n",
       "      <td>4</td>\n",
       "      <td>5</td>\n",
       "      <td>4</td>\n",
       "      <td>07-01-2020</td>\n",
       "      <td>19-01-2020</td>\n",
       "      <td>1</td>\n",
       "      <td>1</td>\n",
       "    </tr>\n",
       "    <tr>\n",
       "      <th>4</th>\n",
       "      <td>5</td>\n",
       "      <td>3</td>\n",
       "      <td>3</td>\n",
       "      <td>15-01-2020</td>\n",
       "      <td>23-01-2020</td>\n",
       "      <td>0</td>\n",
       "      <td>1</td>\n",
       "    </tr>\n",
       "  </tbody>\n",
       "</table>\n",
       "</div>"
      ],
      "text/plain": [
       "   id_  area_id_  node_id_    act_date  deact_date  has_loan  is_act\n",
       "0    1         3         4  02-01-2020  03-01-2020         1       0\n",
       "1    2         3         5  03-01-2020  17-01-2020         0       1\n",
       "2    3         5         4  27-01-2020  18-02-2020         0       0\n",
       "3    4         5         4  07-01-2020  19-01-2020         1       1\n",
       "4    5         3         3  15-01-2020  23-01-2020         0       1"
      ]
     },
     "execution_count": 33,
     "metadata": {},
     "output_type": "execute_result"
    }
   ],
   "source": [
    "# drop duplicates \n",
    "\n",
    "drop_duplicates().head()"
   ]
  },
  {
   "cell_type": "code",
   "execution_count": 34,
   "id": "117c5f02",
   "metadata": {},
   "outputs": [],
   "source": [
    "def data_cleaning():\n",
    "\n",
    "    df = drop_duplicates()\n",
    "\n",
    "    # Step 3: Drop specified columns from the DataFrame(\"has_loan\", \"is_act\")\n",
    "    df.drop(columns=[\"has_loan\", \"is_act\"], inplace=True)\n",
    "    #Rename columns names id_,area_id_,node_id_,act_date',deact_date to consumer_id,region_id,node_id,start_date,end_date\n",
    "    df.rename(columns={\"id_\": \"consumer_id\", \"area_id_\": \"region_id\", \"node_id_\": \"node_id\",\n",
    "                           \"act_date\": \"start_date\", \"deact_date\": \"end_date\"}, inplace=True)\n",
    "    df.to_csv('user_nodes_cleaned.csv', index=False)\n",
    "    return df"
   ]
  },
  {
   "cell_type": "code",
   "execution_count": 37,
   "id": "d8e23a8a",
   "metadata": {},
   "outputs": [
    {
     "name": "stdout",
     "output_type": "stream",
     "text": [
      "<class 'pandas.core.frame.DataFrame'>\n",
      "Int64Index: 3500 entries, 0 to 3499\n",
      "Data columns (total 5 columns):\n",
      " #   Column       Non-Null Count  Dtype \n",
      "---  ------       --------------  ----- \n",
      " 0   consumer_id  3500 non-null   int64 \n",
      " 1   region_id    3500 non-null   int64 \n",
      " 2   node_id      3500 non-null   int64 \n",
      " 3   start_date   3500 non-null   object\n",
      " 4   end_date     3500 non-null   object\n",
      "dtypes: int64(3), object(2)\n",
      "memory usage: 164.1+ KB\n"
     ]
    }
   ],
   "source": [
    "data_cleaning().info()"
   ]
  },
  {
   "cell_type": "code",
   "execution_count": null,
   "id": "298f6798",
   "metadata": {},
   "outputs": [],
   "source": []
  }
 ],
 "metadata": {
  "kernelspec": {
   "display_name": "Python 3 (ipykernel)",
   "language": "python",
   "name": "python3"
  },
  "language_info": {
   "codemirror_mode": {
    "name": "ipython",
    "version": 3
   },
   "file_extension": ".py",
   "mimetype": "text/x-python",
   "name": "python",
   "nbconvert_exporter": "python",
   "pygments_lexer": "ipython3",
   "version": "3.10.5"
  }
 },
 "nbformat": 4,
 "nbformat_minor": 5
}
